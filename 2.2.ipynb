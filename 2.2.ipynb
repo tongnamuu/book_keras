{
 "cells": [
  {
   "cell_type": "code",
   "execution_count": 1,
   "metadata": {},
   "outputs": [
    {
     "name": "stdout",
     "output_type": "stream",
     "text": [
      "12\n",
      "0\n",
      "[ 1  3  5 14]\n",
      "1\n",
      "[[ 5  1  4  6]\n",
      " [ 1  2  3  4]\n",
      " [99 14 12 14]]\n",
      "2\n"
     ]
    }
   ],
   "source": [
    "import numpy as np\n",
    "x=np.array(12) # 0 dimension tensor(scalar)\n",
    "print(x)\n",
    "print(x.ndim)\n",
    "y=np.array([1,3,5,14]) # 1 dimension tensor(vector)\n",
    "print(y)\n",
    "print(y.ndim)\n",
    "z=np.array([[5,1,4,6],[1,2,3,4],[99,14,12,14]]) # 2 diemsion tensor(matrix)\n",
    "print(z)\n",
    "print(z.ndim)\n"
   ]
  },
  {
   "cell_type": "code",
   "execution_count": 2,
   "metadata": {},
   "outputs": [
    {
     "name": "stdout",
     "output_type": "stream",
     "text": [
      "3\n",
      "(60000, 28, 28)\n",
      "uint8\n"
     ]
    }
   ],
   "source": [
    "from keras.datasets import mnist\n",
    "(train_images, train_labels), (test_images, test_labels) = mnist.load_data()\n",
    "\n",
    "print(train_images.ndim)\n",
    "print(train_images.shape)\n",
    "print(train_images.dtype)"
   ]
  },
  {
   "cell_type": "code",
   "execution_count": 7,
   "metadata": {},
   "outputs": [
    {
     "data": {
      "image/png": "[encoded data removed]",
      "text/plain": [
       "<Figure size 432x288 with 1 Axes>"
      ]
     },
     "metadata": {
      "needs_background": "light"
     },
     "output_type": "display_data"
    },
    {
     "data": {
      "image/png": "[encoded data removed]",
      "text/plain": [
       "<Figure size 432x288 with 1 Axes>"
      ]
     },
     "metadata": {
      "needs_background": "light"
     },
     "output_type": "display_data"
    }
   ],
   "source": [
    "import matplotlib.pyplot as plt\n",
    "digit = train_images[4]\n",
    "plt.imshow(digit)\n",
    "plt.show()\n",
    "plt.imshow(digit,cmap=plt.cm.binary)\n",
    "plt.show()"
   ]
  },
  {
   "cell_type": "code",
   "execution_count": 16,
   "metadata": {},
   "outputs": [
    {
     "name": "stdout",
     "output_type": "stream",
     "text": [
      "(10, 28, 28)\n",
      "(90, 28, 28)\n",
      "(90, 13, 28)\n",
      "(1, 14, 14)\n",
      "(1, 14, 14)\n"
     ]
    }
   ],
   "source": [
    "my_slice0=train_images[0:10]\n",
    "my_slice = train_images[10:100]\n",
    "print(my_slice0.shape)\n",
    "print(my_slice.shape)\n",
    "my_slice = train_images[10:100,10:23,0:28]\n",
    "print(my_slice.shape)\n",
    "\n",
    "my_slice = train_images[[4],14:,14:] # right down\n",
    "print(my_slice.shape)\n",
    "my_slice = train_images[[4],7:-7,7:-7] # center\n",
    "print(my_slice.shape)"
   ]
  },
  {
   "cell_type": "markdown",
   "metadata": {},
   "source": [
    "# Batch SIZE\n",
    "<h4>if batch size is 128, </h4>\n",
    "    <h5>first batch = train_images[0:128]</h5>\n",
    "    <h5>second batch = train_images[128:256]</h5>\n",
    "    <h5>...</h5>\n",
    "\n",
    "# Tensor\n",
    "<h5>2D tensor</h5>\n",
    "sampels, features\n",
    "<h5>3D tensor</h5>\n",
    "samples, timesteps, features\n",
    "<h5>4D tensor</h5>\n",
    "images(sampels,height,width, channels) or (samples,channels,height,width)\n",
    "<h5>5D tensor</h5>\n",
    "videos(samples,frames,height,width,channels) or (samples, frames, channels, height, width)"
   ]
  },
  {
   "cell_type": "code",
   "execution_count": null,
   "metadata": {},
   "outputs": [],
   "source": []
  }
 ],
 "metadata": {
  "kernelspec": {
   "display_name": "Python 3.7 (tensorflow)",
   "language": "python",
   "name": "tensorflow"
  },
  "language_info": {
   "codemirror_mode": {
    "name": "ipython",
    "version": 3
   },
   "file_extension": ".py",
   "mimetype": "text/x-python",
   "name": "python",
   "nbconvert_exporter": "python",
   "pygments_lexer": "ipython3",
   "version": "3.7.6"
  }
 },
 "nbformat": 4,
 "nbformat_minor": 4
}
